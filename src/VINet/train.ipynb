{
 "cells": [
  {
   "cell_type": "code",
   "execution_count": null,
   "metadata": {},
   "outputs": [],
   "source": [
    "import torch\n",
    "from datasets import load_dataset\n",
    "from torch.utils.data import DataLoader"
   ]
  },
  {
   "cell_type": "code",
   "execution_count": null,
   "metadata": {},
   "outputs": [],
   "source": [
    "import os\n",
    "\n",
    "pwd = os.getcwd()\n",
    "pwd"
   ]
  },
  {
   "cell_type": "code",
   "execution_count": null,
   "metadata": {},
   "outputs": [],
   "source": [
    "from VIDataloader.VIDataloader import get_dataloader\n",
    "from torchvision import transforms\n",
    "\n",
    "transform = transforms.Compose([\n",
    "    transforms.Resize((540, 960)), transforms.ToTensor(),\n",
    "])\n",
    "image_dir = os.path.join(pwd, \"train_images\", \"images\")\n",
    "mask_dir = os.path.join(pwd, \"train_images\", \"masks\")\n",
    "batch_size = 4\n",
    "\n",
    "dataloader = get_dataloader(image_dir, mask_dir, batch_size, transform)\n",
    "type(dataloader), len(dataloader)"
   ]
  },
  {
   "cell_type": "code",
   "execution_count": null,
   "metadata": {},
   "outputs": [],
   "source": [
    "class Object(object):\n",
    "    pass\n",
    "opt = Object()\n",
    "opt.t_stride = 5"
   ]
  },
  {
   "cell_type": "code",
   "execution_count": null,
   "metadata": {},
   "outputs": [],
   "source": [
    "import torch.nn as nn\n",
    "import torch.optim as optim\n",
    "import torch.nn.functional as F\n",
    "from model import generate_model\n",
    "from train import train\n",
    "\n",
    "criterion_L1 = nn.L1Loss()\n",
    "\n",
    "def criterion_ssim(output, target):\n",
    "    ssim_loss = 1 - F.ssim(output, target, data_range=1, win_size=11, size_average=True)\n",
    "    return ssim_loss\n",
    "\n",
    "def get_optimizer(model, lr=0.001):\n",
    "    return optim.Adam(model.parameters(), lr=lr)\n",
    "\n",
    "model = generate_model(opt)\n",
    "train(10, dataloader, model, criterion_L1, criterion_ssim, get_optimizer, opt)"
   ]
  },
  {
   "cell_type": "code",
   "execution_count": null,
   "metadata": {},
   "outputs": [],
   "source": [
    "torch.save(model.state_dict(), 'model_weights.pt')"
   ]
  }
 ],
 "metadata": {
  "kernelspec": {
   "display_name": "segmentation",
   "language": "python",
   "name": "python3"
  },
  "language_info": {
   "codemirror_mode": {
    "name": "ipython",
    "version": 3
   },
   "file_extension": ".py",
   "mimetype": "text/x-python",
   "name": "python",
   "nbconvert_exporter": "python",
   "pygments_lexer": "ipython3",
   "version": "3.8.18"
  }
 },
 "nbformat": 4,
 "nbformat_minor": 2
}
